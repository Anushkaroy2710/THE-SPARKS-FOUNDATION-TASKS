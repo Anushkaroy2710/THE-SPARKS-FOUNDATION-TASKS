{
 "cells": [
  {
   "cell_type": "markdown",
   "metadata": {
    "colab_type": "text",
    "id": "UID9RK1qDlVB"
   },
   "source": [
    "### TASK 2: PREDICTION USING UNSUPERVISED MACHINE LEARNING\n",
    "\n",
    "PREDICTING OPTIMUM NUMBER OF CLUSTERS FROM 'IRIS' DATASET USING SOME OF THE BASICS OF K-MEANS CLUSTERING."
   ]
  },
  {
   "cell_type": "markdown",
   "metadata": {
    "colab_type": "text",
    "id": "qnC6-B-KUBWO"
   },
   "source": [
    "### GRIP MAY 21\n",
    "### Author: Anushka Roy."
   ]
  },
  {
   "cell_type": "markdown",
   "metadata": {},
   "source": [
    "### *STEP 1:Importing the libraries*"
   ]
  },
  {
   "cell_type": "code",
   "execution_count": 2,
   "metadata": {
    "colab": {
     "base_uri": "https://localhost:8080/",
     "height": 195
    },
    "colab_type": "code",
    "executionInfo": {
     "elapsed": 835,
     "status": "ok",
     "timestamp": 1544240454142,
     "user": {
      "displayName": "A M Aditya",
      "photoUrl": "https://lh3.googleusercontent.com/-WI8p7JNWLic/AAAAAAAAAAI/AAAAAAAAAfs/vS8ElgH0p0c/s64/photo.jpg",
      "userId": "15341571102300750919"
     },
     "user_tz": -480
    },
    "id": "kO_1kOEGDTws",
    "outputId": "24bb4b2a-2342-4c91-c702-b127a5391152"
   },
   "outputs": [],
   "source": [
    "import numpy as np\n",
    "import matplotlib.pyplot as plt\n",
    "import pandas as pd\n",
    "from sklearn import datasets"
   ]
  },
  {
   "cell_type": "markdown",
   "metadata": {},
   "source": [
    "### *STEP 2:  Loading the dataset*"
   ]
  },
  {
   "cell_type": "code",
   "execution_count": 3,
   "metadata": {},
   "outputs": [
    {
     "data": {
      "text/html": [
       "<div>\n",
       "<style scoped>\n",
       "    .dataframe tbody tr th:only-of-type {\n",
       "        vertical-align: middle;\n",
       "    }\n",
       "\n",
       "    .dataframe tbody tr th {\n",
       "        vertical-align: top;\n",
       "    }\n",
       "\n",
       "    .dataframe thead th {\n",
       "        text-align: right;\n",
       "    }\n",
       "</style>\n",
       "<table border=\"1\" class=\"dataframe\">\n",
       "  <thead>\n",
       "    <tr style=\"text-align: right;\">\n",
       "      <th></th>\n",
       "      <th>SepalLengthCm</th>\n",
       "      <th>SepalWidthCm</th>\n",
       "      <th>PetalLengthCm</th>\n",
       "      <th>PetalWidthCm</th>\n",
       "      <th>Species</th>\n",
       "    </tr>\n",
       "  </thead>\n",
       "  <tbody>\n",
       "    <tr>\n",
       "      <th>0</th>\n",
       "      <td>5.1</td>\n",
       "      <td>3.5</td>\n",
       "      <td>1.4</td>\n",
       "      <td>0.2</td>\n",
       "      <td>Iris-setosa</td>\n",
       "    </tr>\n",
       "    <tr>\n",
       "      <th>1</th>\n",
       "      <td>4.9</td>\n",
       "      <td>3.0</td>\n",
       "      <td>1.4</td>\n",
       "      <td>0.2</td>\n",
       "      <td>Iris-setosa</td>\n",
       "    </tr>\n",
       "    <tr>\n",
       "      <th>2</th>\n",
       "      <td>4.7</td>\n",
       "      <td>3.2</td>\n",
       "      <td>1.3</td>\n",
       "      <td>0.2</td>\n",
       "      <td>Iris-setosa</td>\n",
       "    </tr>\n",
       "    <tr>\n",
       "      <th>3</th>\n",
       "      <td>4.6</td>\n",
       "      <td>3.1</td>\n",
       "      <td>1.5</td>\n",
       "      <td>0.2</td>\n",
       "      <td>Iris-setosa</td>\n",
       "    </tr>\n",
       "    <tr>\n",
       "      <th>4</th>\n",
       "      <td>5.0</td>\n",
       "      <td>3.6</td>\n",
       "      <td>1.4</td>\n",
       "      <td>0.2</td>\n",
       "      <td>Iris-setosa</td>\n",
       "    </tr>\n",
       "  </tbody>\n",
       "</table>\n",
       "</div>"
      ],
      "text/plain": [
       "   SepalLengthCm  SepalWidthCm  PetalLengthCm  PetalWidthCm      Species\n",
       "0            5.1           3.5            1.4           0.2  Iris-setosa\n",
       "1            4.9           3.0            1.4           0.2  Iris-setosa\n",
       "2            4.7           3.2            1.3           0.2  Iris-setosa\n",
       "3            4.6           3.1            1.5           0.2  Iris-setosa\n",
       "4            5.0           3.6            1.4           0.2  Iris-setosa"
      ]
     },
     "execution_count": 3,
     "metadata": {},
     "output_type": "execute_result"
    }
   ],
   "source": [
    "iris = pd.read_csv(\"C:Iris.csv\")\n",
    "iris.drop([\"Id\"],axis=1,inplace=True)\n",
    "iris.head() # See the first 5 rows"
   ]
  },
  {
   "cell_type": "markdown",
   "metadata": {},
   "source": [
    "### *STEP 3: Finding unique features in species column*"
   ]
  },
  {
   "cell_type": "code",
   "execution_count": 4,
   "metadata": {},
   "outputs": [
    {
     "data": {
      "text/plain": [
       "array(['Iris-setosa', 'Iris-versicolor', 'Iris-virginica'], dtype=object)"
      ]
     },
     "execution_count": 4,
     "metadata": {},
     "output_type": "execute_result"
    }
   ],
   "source": [
    "iris.Species.unique()"
   ]
  },
  {
   "cell_type": "markdown",
   "metadata": {},
   "source": [
    "Thus we can see that Iris-setosa,Iris-versicolor and Iris-virginica are three unique levels for species "
   ]
  },
  {
   "cell_type": "markdown",
   "metadata": {
    "colab_type": "text",
    "id": "q_pPmK9GIKMz"
   },
   "source": [
    "### *STEP 4: Adjusting the data* "
   ]
  },
  {
   "cell_type": "code",
   "execution_count": 5,
   "metadata": {},
   "outputs": [],
   "source": [
    "features= iris .loc[:,[\"SepalLengthCm\",\"SepalWidthCm\",\"PetalLengthCm\",\"PetalWidthCm\"]] "
   ]
  },
  {
   "cell_type": "markdown",
   "metadata": {},
   "source": [
    "### *STEP 5: Finding the optimum number of clusters for K-means classification*"
   ]
  },
  {
   "cell_type": "markdown",
   "metadata": {},
   "source": [
    "SciKit-Learn implementation is used for K Means Clustering"
   ]
  },
  {
   "cell_type": "code",
   "execution_count": 6,
   "metadata": {
    "colab": {
     "base_uri": "https://localhost:8080/",
     "height": 376
    },
    "colab_type": "code",
    "executionInfo": {
     "elapsed": 1649,
     "status": "ok",
     "timestamp": 1544110062756,
     "user": {
      "displayName": "A M Aditya",
      "photoUrl": "https://lh3.googleusercontent.com/-WI8p7JNWLic/AAAAAAAAAAI/AAAAAAAAAfs/vS8ElgH0p0c/s64/photo.jpg",
      "userId": "15341571102300750919"
     },
     "user_tz": -480
    },
    "id": "WevSKogFEalU",
    "outputId": "d0161248-67f2-48a4-cf4b-224f8faae045"
   },
   "outputs": [],
   "source": [
    "from sklearn.cluster import KMeans\n",
    "kmeans=KMeans(n_clusters=100)"
   ]
  },
  {
   "cell_type": "code",
   "execution_count": 21,
   "metadata": {
    "scrolled": true
   },
   "outputs": [
    {
     "data": {
      "image/png": "[encoded data removed]",
      "text/plain": [
       "<Figure size 1440x288 with 1 Axes>"
      ]
     },
     "metadata": {
      "needs_background": "light"
     },
     "output_type": "display_data"
    }
   ],
   "source": [
    "from sklearn.cluster import KMeans\n",
    "wcss=[]\n",
    "for i in range(1, 11):\n",
    "    kmeans = KMeans(n_clusters = i)\n",
    "    kmeans.fit(features)\n",
    "    wcss.append(kmeans.inertia_)\n",
    "    \n",
    "# Plotting the results onto a line graph, \n",
    "# `allowing us to observe 'The elbow'\n",
    "plt.figure(figsize=(20,4))\n",
    "plt.plot(range(1, 11), wcss,\"-o\")\n",
    "plt.title('The elbow method-K CHART',fontsize=18)\n",
    "plt.xlabel('Number of clusters',fontsize=15)\n",
    "plt.ylabel('Inertia',fontsize=15) # Within cluster sum of squares\n",
    "plt.xticks(range(1,20))\n",
    "plt.tight_layout()\n",
    "plt.show()"
   ]
  },
  {
   "cell_type": "markdown",
   "metadata": {
    "colab_type": "text",
    "id": "IUXmLTh4Ih6r"
   },
   "source": [
    "You can clearly see why it is called 'The elbow method' from the above graph, the optimum clusters is where the elbow occurs. This is when the within cluster sum of squares (WCSS) doesn't decrease significantly with every iteration.\n",
    "\n",
    "From this we can conclude 3 is the best value for clusters."
   ]
  },
  {
   "cell_type": "markdown",
   "metadata": {},
   "source": [
    "### *STEP 6: Double checking K=3 using visual representation.*"
   ]
  },
  {
   "cell_type": "code",
   "execution_count": 19,
   "metadata": {},
   "outputs": [
    {
     "data": {
      "image/png": "[encoded data removed]",
      "text/plain": [
       "<Figure size 1728x288 with 5 Axes>"
      ]
     },
     "metadata": {
      "needs_background": "light"
     },
     "output_type": "display_data"
    }
   ],
   "source": [
    "plt.figure(figsize=(24,4))\n",
    "plt.suptitle(\"K Means Clustering\",fontsize=20)\n",
    "\n",
    "plt.subplot(1,5,1)\n",
    "plt.title(\"K=1\",fontsize=16) # Plot for K=1\n",
    "plt.xlabel(\"PetalLengthCm\")\n",
    "plt.ylabel(\"PetalWidthCm\")\n",
    "plt.scatter(features.PetalLengthCm,features.PetalWidthCm)\n",
    "\n",
    "plt.subplot(1,5,2)\n",
    "plt.title(\"K=2\",fontsize=16) # Plot for K=2\n",
    "plt.xlabel(\"PetalLengthCm\")\n",
    "kmeans= KMeans(n_clusters=2)\n",
    "features[\"labels\"]= kmeans.fit_predict(features)\n",
    "plt.scatter(features.PetalLengthCm[features.labels==0],features.PetalWidthCm[features.labels==0])\n",
    "plt.scatter(features.PetalLengthCm[features.labels==1],features.PetalWidthCm[features.labels==1])\n",
    "\n",
    "# We drop labels since we only want to use features.\n",
    "features.drop([\"labels\"],axis=1,inplace=True)\n",
    "\n",
    "plt.subplot(1,5,4)\n",
    "plt.title(\"K=3\",fontsize=16) # Plot for K=3\n",
    "plt.xlabel(\"PetalLengthCm\")\n",
    "kmeans= KMeans(n_clusters=3)\n",
    "features[\"labels\"]=kmeans.fit_predict(features)\n",
    "plt.scatter(features.PetalLengthCm[features.labels==0],features.PetalWidthCm[features.labels==0])\n",
    "plt.scatter(features.PetalLengthCm[features.labels==1],features.PetalWidthCm[features.labels==1])\n",
    "plt.scatter(features.PetalLengthCm[features.labels==2],features.PetalWidthCm[features.labels==2])\n",
    "\n",
    "# We drop labels since we only want to use features.\n",
    "features.drop([\"labels\"],axis=1,inplace=True)\n",
    "\n",
    "plt.subplot(1,5,3)\n",
    "plt.title(\"K=4\",fontsize=16) # Plot for K=4\n",
    "plt.xlabel(\"PetalLengthCm\")\n",
    "kmeans= KMeans(n_clusters=4)\n",
    "features[\"labels\"]=kmeans.fit_predict(features)\n",
    "plt.scatter(features.PetalLengthCm[features.labels==0],features.PetalWidthCm[features.labels==0])\n",
    "plt.scatter(features.PetalLengthCm[features.labels==1],features.PetalWidthCm[features.labels==1])\n",
    "plt.scatter(features.PetalLengthCm[features.labels==2],features.PetalWidthCm[features.labels==2])\n",
    "plt.scatter(features.PetalLengthCm[features.labels==3],features.PetalWidthCm[features.labels==3])\n",
    "\n",
    "# We drop labels since we only want to use features.\n",
    "features.drop([\"labels\"],axis=1,inplace=True)\n",
    "\n",
    "plt.subplot(1,5,5)\n",
    "plt.title(\"Original Labels\",fontsize=16) # Plot for original labels\n",
    "plt.xlabel(\"PetalLengthCm\")\n",
    "plt.scatter(iris.PetalLengthCm[iris.Species==\"Iris-virginica\"],iris.PetalWidthCm[iris.Species==\"Iris-virginica\"])\n",
    "plt.scatter(iris.PetalLengthCm[iris.Species==\"Iris-setosa\"],iris.PetalWidthCm[iris.Species==\"Iris-setosa\"])\n",
    "plt.scatter(iris.PetalLengthCm[iris.Species==\"Iris-versicolor\"],iris.PetalWidthCm[iris.Species==\"Iris-versicolor\"])\n",
    "\n",
    "plt.subplots_adjust(top=0.8)\n",
    "plt.show()\n",
    "\n"
   ]
  },
  {
   "cell_type": "markdown",
   "metadata": {},
   "source": [
    "*KMeans was the best for K=3 clusters as it is same as that of the plot of the original with labels.Hence Elbow chart was correct*"
   ]
  }
 ],
 "metadata": {
  "colab": {
   "collapsed_sections": [],
   "name": "KMeans_Clustering.ipynb",
   "provenance": [],
   "version": "0.3.2"
  },
  "kernelspec": {
   "display_name": "Python 3",
   "language": "python",
   "name": "python3"
  },
  "language_info": {
   "codemirror_mode": {
    "name": "ipython",
    "version": 3
   },
   "file_extension": ".py",
   "mimetype": "text/x-python",
   "name": "python",
   "nbconvert_exporter": "python",
   "pygments_lexer": "ipython3",
   "version": "3.8.5"
  }
 },
 "nbformat": 4,
 "nbformat_minor": 1
}
